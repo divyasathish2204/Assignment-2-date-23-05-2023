{
 "cells": [
  {
   "cell_type": "raw",
   "id": "08647d60-7b4f-44db-b5e0-494f5a6379ff",
   "metadata": {},
   "source": [
    "# question 1\n",
    "The two values of boolean types are True and False."
   ]
  },
  {
   "cell_type": "raw",
   "id": "72c5124a-8dfd-40ed-8b58-ba5a19048793",
   "metadata": {},
   "source": [
    "# QUESTION 2\n",
    "The three  boolean/logical opeartors are\n",
    "1.and,or,not"
   ]
  },
  {
   "cell_type": "raw",
   "id": "9d626158-89c3-4ae7-8cb3-5f6ac73aef68",
   "metadata": {},
   "source": [
    "# question 3\n",
    "There are three logical operators,they are and,or,not.\n",
    "The and ,or have two  operands and have foue rows in a truth table\n",
    "Truth table describing and\n",
    "                        a  b   a and b\n",
    "                        F  F   F\n",
    "                        F  T   F\n",
    "                        T  F   F\n",
    "                        T  T   T\n",
    "Trurh table for or\n",
    "                        a  b   a or b\n",
    "                        F  F   F\n",
    "                        F  T   T\n",
    "                        T  F   T\n",
    "                        T  T   T\n",
    "Truth table not\n",
    "                        a  not a\n",
    "                        F   T\n",
    "                        T   F         "
   ]
  },
  {
   "cell_type": "raw",
   "id": "9248c9de-651e-4201-b8c5-ffd12033bcde",
   "metadata": {},
   "source": [
    "# QUESTION 4\n",
    "1.(5 > 4)and (3==5) the output is False\n",
    "2.not (5>4) the output is False\n",
    "3.(5>4) or (3==5) the output is True\n",
    "4.(True and True ) and (True==False) => (True) and (False) => output is False\n",
    "5.(not False) or (not True)=> (T)or(F)=> the output is True\n"
   ]
  },
  {
   "cell_type": "raw",
   "id": "28dfdf3a-2d27-4fef-bff4-d8ca7fe01ccc",
   "metadata": {},
   "source": [
    "# question 5\n",
    "1.The operator ==.It is comparision operator and produces bool result\n",
    "2.!= (not equal);Example:x!=y\n",
    "3.(>=,>,<=,<)that means (greater than or equal to,greater than,less than or equal to,less than)"
   ]
  },
  {
   "cell_type": "raw",
   "id": "613d48c0-dcc3-4c28-ad3c-aceee1338796",
   "metadata": {},
   "source": [
    "# question 6\n",
    "the '=' is an assignment operator used to assign values on the right to the variables on the left.\n",
    "for example:\n",
    "    a = 3 \n",
    "    b = 6\n",
    "    c = a+b\n",
    "then \"==\" is a relational/comparision operator \n",
    "for example:\n",
    "    1 == 1 is valid and returns 1\n",
    "    1 == 0 is valid and returns 0"
   ]
  },
  {
   "cell_type": "raw",
   "id": "80875ec9-0708-4321-b9f9-5a65e4ba4d74",
   "metadata": {},
   "source": [
    "# question 7\n",
    "spam = 0\n",
    "if spam == 10:\n",
    "    print(\"eggs\")\n",
    "    if spam > 5:\n",
    "        print(\"bacon\")\n",
    "    else:\n",
    "        print(\"ham\")\n",
    "        print('spam')\n",
    "else:\n",
    "    print(\"spa\")\n",
    "# There are three blocks with in if statement(if,else,else)\n",
    "# A new block begins every time after indentation"
   ]
  },
  {
   "cell_type": "raw",
   "id": "45885d48-b48b-440c-b8af-bbff3f478a6e",
   "metadata": {},
   "source": [
    "# question 8\n",
    "spam = int(input(\"enter a num\"))\n",
    "if spam == 1:\n",
    "    print(\"hello\")\n",
    "elif spam == 2: # elif is abbreviation of else if\n",
    "    print(\"howdy\")\n",
    "else:\n",
    "    print(\"greetings!\")"
   ]
  },
  {
   "cell_type": "raw",
   "id": "041577c3-786c-452a-941c-fca1e36d2ebb",
   "metadata": {},
   "source": [
    "# question 9\n",
    "1.ctrl + c\n",
    "2.we can use break keyword also when using while True "
   ]
  },
  {
   "cell_type": "raw",
   "id": "58ac09cd-ec13-401b-a058-5d3be9cda843",
   "metadata": {},
   "source": [
    "# question 10\n",
    "# example for break\n",
    "for i in [12,16,17,24,29]:\n",
    "    if i % 2 == 1: # if the number is odd\n",
    "        break      #....immediately exit the loop and prints \"done\"\n",
    "    print(i)\n",
    "print(\"done\")\n",
    "#output =  12\n",
    "           16\n",
    "           done\n",
    "# Example for continue\n",
    "for i in [10,18,21,65,32,87,99]:\n",
    "    if i % 2 == 1:   # if number is odd\n",
    "        continue     \"\"\"don't process it but the loop still caries\n",
    "    print(i)            on running for its remaining iterations\"\"\"\n",
    "print(\"done\")\n",
    "output = 10\n",
    "         18\n",
    "         32\n",
    "         done"
   ]
  },
  {
   "cell_type": "raw",
   "id": "9e78237a-7d98-48e8-a473-2a8c5bbc485c",
   "metadata": {},
   "source": [
    "# question 11\n",
    "for i in range(10): for i in range(0,10): for i in range(0,10,1)  # all the three statements are same.they print upperbound minus one(0-9)\n",
    "    print(list(i))\n",
    "# output => [0,1,2,3,4,5,6,7,8,9]\n"
   ]
  },
  {
   "cell_type": "raw",
   "id": "4f6ce174-0d67-4a6f-9236-2551673dff96",
   "metadata": {},
   "source": [
    "# question 12\n",
    "# for loop to print 1 to 10\n",
    "i = 0\n",
    "for i in range(0,10):\n",
    "    i += 1\n",
    "    print(list(i))\n",
    "#while loop to print 1 to 10\n",
    "i = 1\n",
    "while True:\n",
    "    if i > 10:\n",
    "        break\n",
    "    print(i)\n",
    "    i += 1"
   ]
  },
  {
   "cell_type": "raw",
   "id": "498f8cb4-ca25-4361-92eb-8d7f81ed454d",
   "metadata": {},
   "source": [
    "# question 13\n",
    "\"\"\"\n",
    "first create spam module in python file as spam.py\\\n",
    "then define a function using def as \\\n",
    "def bacon():\n",
    "print(\"error\")\n",
    "Then import that module named spam in ipynb \n",
    "and call as follow\n",
    "\"\"\"\n",
    "import spam as s\n",
    "def bacon()\n",
    "    print(\"hello\")\n",
    "s.bacon()"
   ]
  },
  {
   "cell_type": "code",
   "execution_count": null,
   "id": "280c56c3-ea2e-47e3-b639-26b06bd4f6e5",
   "metadata": {},
   "outputs": [],
   "source": []
  }
 ],
 "metadata": {
  "kernelspec": {
   "display_name": "Python 3 (ipykernel)",
   "language": "python",
   "name": "python3"
  },
  "language_info": {
   "codemirror_mode": {
    "name": "ipython",
    "version": 3
   },
   "file_extension": ".py",
   "mimetype": "text/x-python",
   "name": "python",
   "nbconvert_exporter": "python",
   "pygments_lexer": "ipython3",
   "version": "3.10.6"
  }
 },
 "nbformat": 4,
 "nbformat_minor": 5
}
